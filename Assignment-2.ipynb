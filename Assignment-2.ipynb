{
 "cells": [
  {
   "cell_type": "markdown",
   "metadata": {},
   "source": [
    "# Pattern"
   ]
  },
  {
   "cell_type": "code",
   "execution_count": 56,
   "metadata": {
    "collapsed": true
   },
   "outputs": [
    {
     "name": "stdout",
     "output_type": "stream",
     "text": [
      "*\n",
      "**\n",
      "***\n",
      "****\n",
      "*****\n",
      "****\n",
      "***\n",
      "**\n",
      "*\n",
      "\n",
      "*\n",
      "**\n",
      "***\n",
      "****\n",
      "*****\n",
      "****\n",
      "***\n",
      "**\n",
      "*\n",
      "\n",
      "*\n",
      "**\n",
      "***\n",
      "****\n",
      "*****\n",
      "****\n",
      "***\n",
      "**\n",
      "*\n"
     ]
    }
   ],
   "source": [
    "# using for loops\n",
    "for i in range(1,6):\n",
    "    print(i*'*')\n",
    "for i in range(4,0,-1):\n",
    "    print(i*'*')\n",
    "    \n",
    "#  using if loop\n",
    "for i in range(10):\n",
    "    if(i<5):\n",
    "        print(i*'*')\n",
    "    elif(i==5):\n",
    "        print(i*'*')\n",
    "    else:\n",
    "        print((10-i)*'*')\n",
    "\n",
    "# using nested for loop\n",
    "for i in range(6):\n",
    "    for j in range(i):\n",
    "        print('*',sep ='',end='')\n",
    "    print()\n",
    "for i in range(4,0,-1):\n",
    "    for j in range(i):\n",
    "        print('*',sep='',end='')\n",
    "    print()\n"
   ]
  },
  {
   "cell_type": "markdown",
   "metadata": {},
   "source": [
    "# Reversing a String"
   ]
  },
  {
   "cell_type": "code",
   "execution_count": 54,
   "metadata": {},
   "outputs": [
    {
     "name": "stdout",
     "output_type": "stream",
     "text": [
      "please enter the word to view in reverse order: palindrome\n",
      "emordnilap\n"
     ]
    }
   ],
   "source": [
    "InputWord = input(\"please enter the word to view in reverse order: \")\n",
    "print(InputWord[::-1])"
   ]
  }
 ],
 "metadata": {
  "kernelspec": {
   "display_name": "Python 3",
   "language": "python",
   "name": "python3"
  },
  "language_info": {
   "codemirror_mode": {
    "name": "ipython",
    "version": 3
   },
   "file_extension": ".py",
   "mimetype": "text/x-python",
   "name": "python",
   "nbconvert_exporter": "python",
   "pygments_lexer": "ipython3",
   "version": "3.7.0"
  }
 },
 "nbformat": 4,
 "nbformat_minor": 4
}
