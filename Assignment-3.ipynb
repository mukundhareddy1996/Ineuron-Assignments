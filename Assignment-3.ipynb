{
 "cells": [
  {
   "cell_type": "markdown",
   "metadata": {},
   "source": [
    "# 1.1 REDUCE FUNCTION"
   ]
  },
  {
   "cell_type": "code",
   "execution_count": 76,
   "metadata": {},
   "outputs": [
    {
     "name": "stdout",
     "output_type": "stream",
     "text": [
      "MY OWN REDUCE FUNCTION:\n",
      " sub: -13 \n",
      " add: 15\n",
      " mul: 120\n",
      " min: 5\n",
      " max: 1\n"
     ]
    }
   ],
   "source": [
    "def myReduceFunc(function,a):\n",
    "        old_dummy = function(a[0],a[1])\n",
    "        for i in a[2::]:\n",
    "            new_dummy = function(old_dummy,i)\n",
    "            old_dummy = new_dummy\n",
    "        return old_dummy\n",
    "        \n",
    "#  test cases  \n",
    "sub = myReduceFunc(lambda a,b:a-b,[1,2,3,4,5])\n",
    "add = myReduceFunc(lambda a,b:a+b,[1,2,3,4,5])\n",
    "mul = myReduceFunc(lambda a,b:a*b,[1,2,3,4,5])\n",
    "mini = myReduceFunc(lambda a,b:a if a>b else b,[1,2,3,4,5])\n",
    "maxi = myReduceFunc(lambda a,b:b if a>b else a,[1,2,3,4,5])\n",
    "\n",
    "print(\"MY OWN REDUCE FUNCTION:\\n sub: {} \\n add: {}\\n mul: {}\\n min: {}\\n max: {}\".format(sub,add,mul,mini,maxi))"
   ]
  },
  {
   "cell_type": "markdown",
   "metadata": {},
   "source": [
    "# 1.2 FILTER FUNCTION"
   ]
  },
  {
   "cell_type": "code",
   "execution_count": 92,
   "metadata": {},
   "outputs": [
    {
     "name": "stdout",
     "output_type": "stream",
     "text": [
      "MY OWN FILTER FUNCTION:\n",
      " EVEN: [2, 0, 4] \n",
      " ODD: [1, 9, 3, 3, 5]\n",
      " VOWELS: ['a', 'e', 'o', 'e', 'u', 'e']\n",
      "\n"
     ]
    }
   ],
   "source": [
    "def myFilterFunction(function,a):\n",
    "    new_list =[]\n",
    "    for i in a:\n",
    "        if(function(i)):\n",
    "            new_list.append(i)\n",
    "    return new_list\n",
    "        \n",
    "# test cases\n",
    "\n",
    "Even = myFilterFunction(lambda a: a%2==0,[1,2,9,0,3,3,4,5])\n",
    "odd = myFilterFunction(lambda a: a%2!=0,[1,2,9,0,3,3,4,5])\n",
    "vowels = myFilterFunction(lambda a: True if a.lower() in['a','e','i','o','u'] else False, list('agfeofpwejf uewhvw'))\n",
    "\n",
    "\n",
    "print(\"MY OWN FILTER FUNCTION:\\n EVEN: {} \\n ODD: {}\\n VOWELS: {}\\n\".format(Even,odd,vowels))"
   ]
  },
  {
   "cell_type": "markdown",
   "metadata": {},
   "source": [
    "# 2. List Comprehension"
   ]
  },
  {
   "cell_type": "code",
   "execution_count": 67,
   "metadata": {},
   "outputs": [
    {
     "name": "stdout",
     "output_type": "stream",
     "text": [
      "['x', 'xx', 'xxx', 'xxxx', 'y', 'yy', 'yyy', 'yyyy', 'z', 'zz', 'zzz', 'zzzz']\n",
      "['x', 'y', 'z', 'xx', 'yy', 'zz', 'xxx', 'yyy', 'zzz', 'xxxx', 'yyyy', 'zzzz']\n",
      "[[2], [3], [4], [3], [4], [5], [4], [5], [6]]\n",
      "[[2, 3, 4, 5], [3, 4, 5, 6], [4, 5, 6, 7], [5, 6, 7, 8]]\n",
      "[(1, 1), (2, 1), (3, 1), (1, 2), (2, 2), (3, 2), (1, 3), (2, 3), (3, 3)]\n"
     ]
    }
   ],
   "source": [
    "listComprehension1 = [j*i for j in ('x','y','z') for i in range(1,5)]\n",
    "listComprehension2 = [j*i for i in range(1,5) for j in ('x','y','z')]\n",
    "listComprehension3 = [[i+j] for i in range(3) for j in (2,3,4)]\n",
    "listComprehension4 = [[i,i+1,i+2,i+3] for i in range(2,6)]\n",
    "tupleComprehension =list(tuple((i,j) for j in (1,2,3) for i in (1,2,3)))\n",
    "\n",
    "print(listComprehension1)\n",
    "print(listComprehension2)\n",
    "print(listComprehension3)\n",
    "print(listComprehension4)\n",
    "print(tupleComprehension)"
   ]
  }
 ],
 "metadata": {
  "kernelspec": {
   "display_name": "Python 3",
   "language": "python",
   "name": "python3"
  },
  "language_info": {
   "codemirror_mode": {
    "name": "ipython",
    "version": 3
   },
   "file_extension": ".py",
   "mimetype": "text/x-python",
   "name": "python",
   "nbconvert_exporter": "python",
   "pygments_lexer": "ipython3",
   "version": "3.7.0"
  }
 },
 "nbformat": 4,
 "nbformat_minor": 4
}
